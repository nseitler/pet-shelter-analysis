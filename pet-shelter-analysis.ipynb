{
 "cells": [
  {
   "cell_type": "code",
   "execution_count": 6,
   "id": "cc9fb93f",
   "metadata": {},
   "outputs": [],
   "source": [
    "import pandas as pd\n",
    "in_out_df = pd.read_csv('aac_intakes_outcomes.csv')\n",
    "in_df = pd.read_csv('aac_intakes.csv')\n",
    "out_df = pd.read_csv('aac_outcomes.csv')"
   ]
  },
  {
   "cell_type": "code",
   "execution_count": 8,
   "id": "ab000afa",
   "metadata": {},
   "outputs": [],
   "source": [
    "# Clean data\n",
    "in_df['datetime'] = pd.to_datetime(in_df['datetime'])"
   ]
  },
  {
   "cell_type": "markdown",
   "id": "c08e414d",
   "metadata": {},
   "source": [
    "### Is there an area where more pets are found?\n",
    "#### Find the top 5 places where animals are found so the shelter can coordinate with local volunteers and animal control to monitor these areas.\n",
    "\n",
    "Most pets are found in Austin, TX. \n",
    "\n",
    "To find this answer I used the \"found_location\" column in the intakes/outcomes csv file to find counts for each location. I then printed the top five locations, sorted in decending order by count."
   ]
  },
  {
   "cell_type": "code",
   "execution_count": 5,
   "id": "f19020f2",
   "metadata": {},
   "outputs": [
    {
     "name": "stdout",
     "output_type": "stream",
     "text": [
      "Top 5 Locations where pets are found:\n"
     ]
    },
    {
     "data": {
      "text/plain": [
       "found_location\n",
       "Austin (TX)                          14311\n",
       "Outside Jurisdiction                   945\n",
       "Travis (TX)                            907\n",
       "7201 Levander Loop in Austin (TX)      514\n",
       "Del Valle (TX)                         407\n",
       "Name: count, dtype: int64"
      ]
     },
     "execution_count": 5,
     "metadata": {},
     "output_type": "execute_result"
    }
   ],
   "source": [
    "location_counts = in_out_df['found_location']\n",
    "top_five_locations = location_counts.value_counts()[:5]\n",
    "\n",
    "print(\"Top 5 Locations where pets are found:\")\n",
    "top_five_locations"
   ]
  },
  {
   "cell_type": "markdown",
   "id": "43e19f80",
   "metadata": {},
   "source": [
    "### What is the average number of pets found in a month in the year 2015? Are there months where there is a higher number of animals found?\n",
    "#### Knowing the number of pets the shelter might see in a month can help them gather enough resources and donations to care for the animals they receive.\n",
    "\n",
    "The average number of pets found per month in 2015 was 1,559. More pets than average were found from May until October.\n",
    "\n",
    "I found this answer by using the \"datetime\" column in the intakes file where the year was equal to 2015. I then filtered by month and used value_counts().sort_index() to organize the count by month, then used mount_counts.mean() to determine the average for the year. To find the months where there was a higher number of intakes I filterd the monthly counts to those that are over 1,559."
   ]
  },
  {
   "cell_type": "code",
   "execution_count": 17,
   "id": "25483940",
   "metadata": {},
   "outputs": [
    {
     "data": {
      "text/plain": [
       "1559.3333333333333"
      ]
     },
     "execution_count": 17,
     "metadata": {},
     "output_type": "execute_result"
    }
   ],
   "source": [
    "pets_2015 = in_df[in_df['datetime'].dt.year == 2015].copy()\n",
    "pets_2015['month'] = pets_2015['datetime'].dt.month\n",
    "monthly_counts = pets_2015['month'].value_counts().sort_index()\n",
    "\n",
    "average_pets_per_month = monthly_counts.mean()\n",
    "\n",
    "average_pets_per_month"
   ]
  },
  {
   "cell_type": "code",
   "execution_count": 18,
   "id": "f94e2eea",
   "metadata": {},
   "outputs": [
    {
     "data": {
      "text/plain": [
       "month\n",
       "1     1198\n",
       "2     1119\n",
       "3     1346\n",
       "4     1543\n",
       "5     2094\n",
       "6     2189\n",
       "7     1635\n",
       "8     1718\n",
       "9     1591\n",
       "10    1740\n",
       "11    1411\n",
       "12    1128\n",
       "Name: count, dtype: int64"
      ]
     },
     "execution_count": 18,
     "metadata": {},
     "output_type": "execute_result"
    }
   ],
   "source": [
    "monthly_counts"
   ]
  },
  {
   "cell_type": "code",
   "execution_count": 19,
   "id": "fa0ba313",
   "metadata": {},
   "outputs": [
    {
     "data": {
      "text/plain": [
       "month\n",
       "5     2094\n",
       "6     2189\n",
       "7     1635\n",
       "8     1718\n",
       "9     1591\n",
       "10    1740\n",
       "Name: count, dtype: int64"
      ]
     },
     "execution_count": 19,
     "metadata": {},
     "output_type": "execute_result"
    }
   ],
   "source": [
    "months_over_1559 = monthly_counts[monthly_counts > 1559]\n",
    "months_over_1559"
   ]
  },
  {
   "cell_type": "markdown",
   "id": "93e3b46f",
   "metadata": {},
   "source": [
    "### What is the ratio of incoming pets vs. adopted pets?\n",
    "#### This key metric helps the shelter know how they are doing.\n",
    "\n",
    "The ratio of incoming vs adopted pets is 2.34.\n",
    "\n",
    "To find this answer I found the number of pets in the intake file, then found the number of pets in the outcomes file where their \"outcome_type\" equals \"adoption\". Then divided the number of incoming pets by the number that were adopted."
   ]
  },
  {
   "cell_type": "code",
   "execution_count": 21,
   "id": "06443a60",
   "metadata": {},
   "outputs": [
    {
     "data": {
      "text/plain": [
       "2.3424573498480954"
      ]
     },
     "execution_count": 21,
     "metadata": {},
     "output_type": "execute_result"
    }
   ],
   "source": [
    "total_incoming_pets = len(in_df)\n",
    "\n",
    "adopted_pets = out_df[out_df['outcome_type'] == 'Adoption']\n",
    "total_adopted_pets = len(adopted_pets)\n",
    "\n",
    "adoption_ratio = total_incoming_pets / total_adopted_pets\n",
    "\n",
    "adoption_ratio"
   ]
  },
  {
   "cell_type": "markdown",
   "id": "13010dcd",
   "metadata": {},
   "source": [
    "### What is the distribution of the types of animals in the shelter?\n",
    "#### Find the count of each type of animal in the shelter.\n",
    "\n",
    "There are 45,743 dogs, 29,659 cats, 4,434 \"other\", 342 birds, and 9 animals in the livestock catergory.\n",
    "\n",
    "To find this answer I used the \"animal_types\" column to count the number of animals in each category. In addition I found the percentage of each category; dogs made up 57.05%, cats made up 36.99%, etc."
   ]
  },
  {
   "cell_type": "code",
   "execution_count": 22,
   "id": "a6fefa2a",
   "metadata": {},
   "outputs": [
    {
     "data": {
      "text/plain": [
       "animal_type\n",
       "Dog          45743\n",
       "Cat          29659\n",
       "Other         4434\n",
       "Bird           342\n",
       "Livestock        9\n",
       "Name: count, dtype: int64"
      ]
     },
     "execution_count": 22,
     "metadata": {},
     "output_type": "execute_result"
    }
   ],
   "source": [
    "animal_type_counts = in_df['animal_type'].value_counts()\n",
    "animal_type_counts"
   ]
  },
  {
   "cell_type": "code",
   "execution_count": 23,
   "id": "499ade55",
   "metadata": {},
   "outputs": [
    {
     "data": {
      "text/plain": [
       "animal_type\n",
       "Dog          57.045406\n",
       "Cat          36.987292\n",
       "Other         5.529575\n",
       "Bird          0.426503\n",
       "Livestock     0.011224\n",
       "Name: count, dtype: float64"
      ]
     },
     "execution_count": 23,
     "metadata": {},
     "output_type": "execute_result"
    }
   ],
   "source": [
    "animal_type_distribution = (animal_type_counts / animal_type_counts.sum()) * 100\n",
    "\n",
    "animal_type_distribution"
   ]
  },
  {
   "cell_type": "markdown",
   "id": "0dc41910",
   "metadata": {},
   "source": [
    "### What are the adoption rates for specific breeds?\n",
    "#### Find the top 5 dog breeds in the shelter (based on count) and then find the adoption percentage of each breed.\n",
    "\n",
    "The top five breeds, as well as their adoption percentages, are Pit Bull Mix (37.32%), Chihuahua Shorthair Mix (47.18%), Labrador Retriever Mix (49.66%), German Shepherd Mix (47.73%), and Australian Cattle Dog Mix (56.02%).\n",
    "\n",
    "To find this I used the \"animal_type\" and \"breed\" columns to find the number of each breed that were listed in the intake file, and then displayed the first five in descending order. I then created a 'for' loop to find the percentages of each breed in the \"top_5_breeds_list\"."
   ]
  },
  {
   "cell_type": "code",
   "execution_count": 26,
   "id": "f1f4fc63",
   "metadata": {},
   "outputs": [
    {
     "data": {
      "text/plain": [
       "breed\n",
       "Pit Bull Mix                 6382\n",
       "Chihuahua Shorthair Mix      4860\n",
       "Labrador Retriever Mix       4841\n",
       "German Shepherd Mix          1963\n",
       "Australian Cattle Dog Mix    1105\n",
       "Name: count, dtype: int64"
      ]
     },
     "execution_count": 26,
     "metadata": {},
     "output_type": "execute_result"
    }
   ],
   "source": [
    "dogs_intake = in_df[in_df['animal_type'] == 'Dog']\n",
    "dogs_outcome = out_df[out_df['animal_type'] == 'Dog']\n",
    "top_5_dog_breeds = dogs_intake['breed'].value_counts().head(5)\n",
    "\n",
    "top_5_dog_breeds"
   ]
  },
  {
   "cell_type": "code",
   "execution_count": 27,
   "id": "49063f9d",
   "metadata": {},
   "outputs": [
    {
     "data": {
      "text/plain": [
       "{'Pit Bull Mix': 37.32,\n",
       " 'Chihuahua Shorthair Mix': 47.18,\n",
       " 'Labrador Retriever Mix': 49.66,\n",
       " 'German Shepherd Mix': 47.73,\n",
       " 'Australian Cattle Dog Mix': 56.02}"
      ]
     },
     "execution_count": 27,
     "metadata": {},
     "output_type": "execute_result"
    }
   ],
   "source": [
    "top_5_breeds_list = top_5_dog_breeds.index.tolist()\n",
    "\n",
    "adoption_percentages = {}\n",
    "\n",
    "for breed in top_5_breeds_list:\n",
    "    total_intakes = len(dogs_intake[dogs_intake['breed'] == breed])\n",
    "\n",
    "    total_adoptions = len(dogs_outcome[(dogs_outcome['breed'] == breed) & (dogs_outcome['outcome_type'] == 'Adoption')])\n",
    "\n",
    "    adoption_percentage = (total_adoptions / total_intakes) * 100\n",
    "    adoption_percentages[breed] = round(adoption_percentage, 2)\n",
    "    \n",
    "adoption_percentages"
   ]
  },
  {
   "cell_type": "markdown",
   "id": "f544d6cf",
   "metadata": {},
   "source": [
    "### What are the adoption rates for different colorings?\n",
    "#### Find the top 5 colorings in the shelter (based on count) and then find the adoption percentage of each color.\n",
    "\n",
    "THe top five colorings, as well as their adoption percentages, are black/white (45.73%), black (41.09%), brown tabby (42.66%), brown (22.19%), and white (37.98%).\n",
    "\n",
    "I set this up in the same way as the pervious question, but used the \"color\" column rather than \"breed\". The adoptions calcualtion was set up in the same way."
   ]
  },
  {
   "cell_type": "code",
   "execution_count": 29,
   "id": "78ed83d9",
   "metadata": {},
   "outputs": [
    {
     "data": {
      "text/plain": [
       "color\n",
       "Black/White    8340\n",
       "Black          6710\n",
       "Brown Tabby    4487\n",
       "Brown          3618\n",
       "White          2849\n",
       "Name: count, dtype: int64"
      ]
     },
     "execution_count": 29,
     "metadata": {},
     "output_type": "execute_result"
    }
   ],
   "source": [
    "top_5_colors = in_df['color'].value_counts().head(5)\n",
    "top_5_colors"
   ]
  },
  {
   "cell_type": "code",
   "execution_count": 31,
   "id": "f3e74259",
   "metadata": {},
   "outputs": [
    {
     "data": {
      "text/plain": [
       "{'Black/White': 45.73,\n",
       " 'Black': 41.09,\n",
       " 'Brown Tabby': 42.66,\n",
       " 'Brown': 22.19,\n",
       " 'White': 37.98}"
      ]
     },
     "execution_count": 31,
     "metadata": {},
     "output_type": "execute_result"
    }
   ],
   "source": [
    "top_5_colors_list = top_5_colors.index.tolist()\n",
    "\n",
    "color_adoption_percentages = {}\n",
    "\n",
    "for color in top_5_colors_list:\n",
    "    total_intakes_color = len(in_df[in_df['color'] == color])\n",
    "\n",
    "    total_adoptions_color = len(out_df[(out_df['color'] == color) & (out_df['outcome_type'] == 'Adoption')])\n",
    "\n",
    "    adoption_percentage_color = (total_adoptions_color / total_intakes_color) * 100\n",
    "    color_adoption_percentages[color] = round(adoption_percentage_color, 2)\n",
    "\n",
    "color_adoption_percentages"
   ]
  },
  {
   "cell_type": "markdown",
   "id": "5f43080a",
   "metadata": {},
   "source": [
    "### About how many animals are spayed/neutered each month?\n",
    "#### This will help the shelter allocate resources and staff. Assume that all intact males and females will be spayed/neutered.\n",
    "\n",
    "The average number of animals that are spayed/neutered each month is 914.\n",
    "\n",
    "I used the \"sex_upon_intake\" column and found those that were listed as \"intact male\" or \"intact female\" to determine which animals need to be spayed/neutered. I then broke the datetime column down by month and year, found the total count of animals needing resources and divided by the number of months."
   ]
  },
  {
   "cell_type": "code",
   "execution_count": 34,
   "id": "f13aa3dd",
   "metadata": {},
   "outputs": [
    {
     "data": {
      "text/plain": [
       "913.8518518518518"
      ]
     },
     "execution_count": 34,
     "metadata": {},
     "output_type": "execute_result"
    }
   ],
   "source": [
    "intact_animals = in_df[in_df['sex_upon_intake'].isin(['Intact Male', 'Intact Female'])].copy()\n",
    "\n",
    "intact_animals['year'] = intact_animals['datetime'].dt.year\n",
    "intact_animals['month'] = intact_animals['datetime'].dt.month\n",
    "\n",
    "spay_neuter_counts = intact_animals.groupby(['year', 'month']).size()\n",
    "\n",
    "total_neuters = spay_neuter_counts.sum()\n",
    "\n",
    "num_months = len(spay_neuter_counts)\n",
    "\n",
    "average_monthly_neuters = total_neuters / num_months\n",
    "\n",
    "average_monthly_neuters"
   ]
  },
  {
   "cell_type": "markdown",
   "id": "44da595a",
   "metadata": {},
   "source": [
    "### Extra Credit"
   ]
  },
  {
   "cell_type": "markdown",
   "id": "e7d2d404",
   "metadata": {},
   "source": [
    "\n",
    "### How many animals in the shelter are repeats? Which animal was returned to the shelter the most?\n",
    "\n",
    "#### This means the animal has been brought in more than once.\n",
    "\n",
    "6,154 animals were repeats, and a rat terrier mix named \"Lil Bit\" was returned the most (13 times).\n",
    "\n",
    "I found the number of times each \"animal_id\" was listed, then filtered by those that were higher than \"1\". Then found the \"animal_id\" that had the highest count, and then displayed the details associated with that \"animal_id\" (name + breed)."
   ]
  },
  {
   "cell_type": "code",
   "execution_count": 40,
   "id": "dba82e1e",
   "metadata": {},
   "outputs": [
    {
     "data": {
      "text/plain": [
       "(6154,\n",
       "      animal_id     name            breed\n",
       " 6393   A721033  Lil Bit  Rat Terrier Mix,\n",
       " 13)"
      ]
     },
     "execution_count": 40,
     "metadata": {},
     "output_type": "execute_result"
    }
   ],
   "source": [
    "animal_id_counts = in_df['animal_id'].value_counts()\n",
    "\n",
    "repeat_animals = animal_id_counts[animal_id_counts > 1]\n",
    "\n",
    "num_repeat_animals = len(repeat_animals)\n",
    "\n",
    "max_returns = repeat_animals.max()\n",
    "animal_ids_most_returns = repeat_animals[repeat_animals == max_returns].index\n",
    "\n",
    "animals_most_returns_details = in_df[in_df['animal_id'].isin(animal_ids_most_returns)][['animal_id', 'name', 'breed']].drop_duplicates()\n",
    "\n",
    "num_repeat_animals, animals_most_returns_details, max_returns"
   ]
  },
  {
   "cell_type": "markdown",
   "id": "4ea33d37",
   "metadata": {},
   "source": [
    "\n",
    "### What are the adoption rates for the following age groups?\n",
    "\n",
    "    baby: 4 months and less (43.12%)\n",
    "    young: 5 months - 2 years (50.48%)\n",
    "    adult: 3 years - 10 years (33.67%)\n",
    "    senior: 11+ (12.5%)\n",
    "\n",
    "I defined \"categorize_age_group\" to classify animals into age groups based on their \"age_upon_outcome\" data. The created a column titled \"age_group\" to store the classifications. Then found the adoption rate by dividing the number of adoptions by the total count for each category."
   ]
  },
  {
   "cell_type": "code",
   "execution_count": 42,
   "id": "519ab453",
   "metadata": {},
   "outputs": [],
   "source": [
    "def categorize_age_group(age_upon_outcome):\n",
    "    if isinstance(age_upon_outcome, str):\n",
    "        age_split = age_upon_outcome.split()\n",
    "        age = int(age_split[0])\n",
    "        unit = age_split[1]\n",
    "\n",
    "        # Convert age to years if in months or weeks\n",
    "        if 'month' in unit:\n",
    "            age = age / 12\n",
    "        elif 'week' in unit or 'day' in unit:\n",
    "            age = 0  # Considered baby\n",
    "\n",
    "        # Categorize based on age\n",
    "        if age <= 0.33:  # 4 months or less\n",
    "            return 'baby'\n",
    "        elif age <= 2:  # 5 months - 2 years\n",
    "            return 'young'\n",
    "        elif age <= 10:  # 3 years - 10 years\n",
    "            return 'adult'\n",
    "        else:  # 11 years and older\n",
    "            return 'senior'\n",
    "    else:\n",
    "        return 'unknown'\n",
    "\n",
    "out_df['age_group'] = out_df['age_upon_outcome'].apply(categorize_age_group)"
   ]
  },
  {
   "cell_type": "code",
   "execution_count": 43,
   "id": "61e36ec8",
   "metadata": {},
   "outputs": [
    {
     "data": {
      "text/plain": [
       "age_group\n",
       "young      43.119363\n",
       "baby       50.478607\n",
       "adult      33.673191\n",
       "senior     21.234454\n",
       "unknown    12.500000\n",
       "Name: count, dtype: float64"
      ]
     },
     "execution_count": 43,
     "metadata": {},
     "output_type": "execute_result"
    }
   ],
   "source": [
    "adoptions_df = out_df[out_df['outcome_type'] == 'Adoption']\n",
    "\n",
    "adoption_counts = adoptions_df['age_group'].value_counts()\n",
    "\n",
    "total_counts = out_df['age_group'].value_counts()\n",
    "\n",
    "adoption_rates = (adoption_counts / total_counts) * 100\n",
    "\n",
    "adoption_rates"
   ]
  },
  {
   "cell_type": "markdown",
   "id": "f8c5bbd1",
   "metadata": {},
   "source": [
    "### If spay/neuter for a dog costs 100 and a spay/neuter for a cat costs 50, how much did the shelter spend in 2015 on these procedures?\n",
    "\n",
    "The total cost in 2015 was $863,250.\n",
    "\n",
    "I filtered the intakes data to find the number of dogs and cats that were intact, then calcualting the cost based on the total counts. Dogs cost 100 and cats cost 50 in this example."
   ]
  },
  {
   "cell_type": "code",
   "execution_count": 44,
   "id": "a59dd743",
   "metadata": {},
   "outputs": [
    {
     "data": {
      "text/plain": [
       "863250"
      ]
     },
     "execution_count": 44,
     "metadata": {},
     "output_type": "execute_result"
    }
   ],
   "source": [
    "intakes_2015 = in_df[in_df['datetime'].dt.year == 2015]\n",
    "\n",
    "intact_dogs_2015 = intakes_2015[(intakes_2015['animal_type'] == 'Dog') & \n",
    "                                (intakes_2015['sex_upon_intake'].isin(['Intact Male', 'Intact Female']))]\n",
    "intact_cats_2015 = intakes_2015[(intakes_2015['animal_type'] == 'Cat') & \n",
    "                                (intakes_2015['sex_upon_intake'].isin(['Intact Male', 'Intact Female']))]\n",
    "\n",
    "num_intact_dogs = len(intact_dogs_2015)\n",
    "num_intact_cats = len(intact_cats_2015)\n",
    "\n",
    "cost_dog = 100\n",
    "cost_cat = 50\n",
    "\n",
    "total_cost = (num_intact_dogs * cost_dog) + (num_intact_cats * cost_cat)\n",
    "\n",
    "total_cost"
   ]
  }
 ],
 "metadata": {
  "kernelspec": {
   "display_name": "Python 3 (ipykernel)",
   "language": "python",
   "name": "python3"
  },
  "language_info": {
   "codemirror_mode": {
    "name": "ipython",
    "version": 3
   },
   "file_extension": ".py",
   "mimetype": "text/x-python",
   "name": "python",
   "nbconvert_exporter": "python",
   "pygments_lexer": "ipython3",
   "version": "3.11.5"
  }
 },
 "nbformat": 4,
 "nbformat_minor": 5
}
