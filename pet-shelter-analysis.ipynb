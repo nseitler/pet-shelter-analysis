{
 "cells": [
  {
   "cell_type": "code",
   "execution_count": 1,
   "id": "7ac546ca",
   "metadata": {},
   "outputs": [],
   "source": [
    "import pandas as pd\n",
    "in_out_df = pd.read_csv('aac_intakes_outcomes.csv')"
   ]
  },
  {
   "cell_type": "markdown",
   "id": "3501945b",
   "metadata": {},
   "source": [
    "### Is there an area where more pets are found?\n",
    "#### Find the top 5 places where animals are found so the shelter can coordinate with local volunteers and animal control to monitor these areas."
   ]
  },
  {
   "cell_type": "code",
   "execution_count": 5,
   "id": "58c5ee73",
   "metadata": {},
   "outputs": [
    {
     "name": "stdout",
     "output_type": "stream",
     "text": [
      "Top 5 Locations where pets are found:\n"
     ]
    },
    {
     "data": {
      "text/plain": [
       "found_location\n",
       "Austin (TX)                          14311\n",
       "Outside Jurisdiction                   945\n",
       "Travis (TX)                            907\n",
       "7201 Levander Loop in Austin (TX)      514\n",
       "Del Valle (TX)                         407\n",
       "Name: count, dtype: int64"
      ]
     },
     "execution_count": 5,
     "metadata": {},
     "output_type": "execute_result"
    }
   ],
   "source": [
    "location_counts = in_out_df['found_location']\n",
    "top_five_locations = location_counts.value_counts()[:5]\n",
    "\n",
    "print(\"Top 5 Locations where pets are found:\")\n",
    "top_five_locations"
   ]
  },
  {
   "cell_type": "markdown",
   "id": "897210f2",
   "metadata": {},
   "source": [
    "### What is the average number of pets found in a month in the year 2015? Are there months where there is a higher number of animals found?\n",
    "#### Knowing the number of pets the shelter might see in a month can help them gather enough resources and donations to care for the animals they receive.\n"
   ]
  },
  {
   "cell_type": "code",
   "execution_count": null,
   "id": "b0e2f421",
   "metadata": {},
   "outputs": [],
   "source": []
  },
  {
   "cell_type": "markdown",
   "id": "7390ed3f",
   "metadata": {},
   "source": [
    "### What is the ratio of incoming pets vs. adopted pets?\n",
    "#### This key metric helps the shelter know how they are doing."
   ]
  },
  {
   "cell_type": "code",
   "execution_count": null,
   "id": "90463173",
   "metadata": {},
   "outputs": [],
   "source": []
  },
  {
   "cell_type": "markdown",
   "id": "4a01c996",
   "metadata": {},
   "source": [
    "### What is the distribution of the types of animals in the shelter?\n",
    "#### Find the count of each type of animal in the shelter."
   ]
  },
  {
   "cell_type": "code",
   "execution_count": null,
   "id": "b69bc77f",
   "metadata": {},
   "outputs": [],
   "source": []
  },
  {
   "cell_type": "markdown",
   "id": "1939282f",
   "metadata": {},
   "source": [
    "### What are the adoption rates for specific breeds?\n",
    "#### Find the top 5 dog breeds in the shelter (based on count) and then find the adoption percentage of each breed."
   ]
  },
  {
   "cell_type": "code",
   "execution_count": null,
   "id": "ba61edbb",
   "metadata": {},
   "outputs": [],
   "source": []
  },
  {
   "cell_type": "markdown",
   "id": "f2035d71",
   "metadata": {},
   "source": [
    "### What are the adoption rates for different colorings?\n",
    "#### Find the top 5 colorings in the shelter (based on count) and then find the adoption percentage of each color."
   ]
  },
  {
   "cell_type": "code",
   "execution_count": null,
   "id": "a9731c46",
   "metadata": {},
   "outputs": [],
   "source": []
  },
  {
   "cell_type": "markdown",
   "id": "dcd3fc26",
   "metadata": {},
   "source": [
    "### About how many animals are spayed/neutered each month?\n",
    "#### This will help the shelter allocate resources and staff. Assume that all intact males and females will be spayed/neutered."
   ]
  },
  {
   "cell_type": "code",
   "execution_count": null,
   "id": "e356cf87",
   "metadata": {},
   "outputs": [],
   "source": []
  },
  {
   "cell_type": "code",
   "execution_count": null,
   "id": "7e60f451",
   "metadata": {},
   "outputs": [],
   "source": []
  },
  {
   "cell_type": "code",
   "execution_count": null,
   "id": "e7ea8b5e",
   "metadata": {},
   "outputs": [],
   "source": []
  },
  {
   "cell_type": "code",
   "execution_count": null,
   "id": "8c855864",
   "metadata": {},
   "outputs": [],
   "source": []
  },
  {
   "cell_type": "code",
   "execution_count": null,
   "id": "00985c35",
   "metadata": {},
   "outputs": [],
   "source": []
  },
  {
   "cell_type": "code",
   "execution_count": null,
   "id": "3b9472aa",
   "metadata": {},
   "outputs": [],
   "source": []
  },
  {
   "cell_type": "code",
   "execution_count": null,
   "id": "d21b43c4",
   "metadata": {},
   "outputs": [],
   "source": []
  }
 ],
 "metadata": {
  "kernelspec": {
   "display_name": "Python 3 (ipykernel)",
   "language": "python",
   "name": "python3"
  },
  "language_info": {
   "codemirror_mode": {
    "name": "ipython",
    "version": 3
   },
   "file_extension": ".py",
   "mimetype": "text/x-python",
   "name": "python",
   "nbconvert_exporter": "python",
   "pygments_lexer": "ipython3",
   "version": "3.11.5"
  }
 },
 "nbformat": 4,
 "nbformat_minor": 5
}
