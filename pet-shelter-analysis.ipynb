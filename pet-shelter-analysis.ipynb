{
 "cells": [
  {
   "cell_type": "code",
   "execution_count": 6,
   "id": "cf7bf174",
   "metadata": {},
   "outputs": [],
   "source": [
    "import pandas as pd\n",
    "in_out_df = pd.read_csv('aac_intakes_outcomes.csv')\n",
    "in_df = pd.read_csv('aac_intakes.csv')\n",
    "out_df = pd.read_csv('aac_outcomes.csv')"
   ]
  },
  {
   "cell_type": "code",
   "execution_count": 8,
   "id": "723264fe",
   "metadata": {},
   "outputs": [],
   "source": [
    "# Clean data\n",
    "in_df['datetime'] = pd.to_datetime(in_df['datetime'])"
   ]
  },
  {
   "cell_type": "markdown",
   "id": "c9a464ff",
   "metadata": {},
   "source": [
    "### Is there an area where more pets are found?\n",
    "#### Find the top 5 places where animals are found so the shelter can coordinate with local volunteers and animal control to monitor these areas."
   ]
  },
  {
   "cell_type": "code",
   "execution_count": 5,
   "id": "39a2b41b",
   "metadata": {},
   "outputs": [
    {
     "name": "stdout",
     "output_type": "stream",
     "text": [
      "Top 5 Locations where pets are found:\n"
     ]
    },
    {
     "data": {
      "text/plain": [
       "found_location\n",
       "Austin (TX)                          14311\n",
       "Outside Jurisdiction                   945\n",
       "Travis (TX)                            907\n",
       "7201 Levander Loop in Austin (TX)      514\n",
       "Del Valle (TX)                         407\n",
       "Name: count, dtype: int64"
      ]
     },
     "execution_count": 5,
     "metadata": {},
     "output_type": "execute_result"
    }
   ],
   "source": [
    "location_counts = in_out_df['found_location']\n",
    "top_five_locations = location_counts.value_counts()[:5]\n",
    "\n",
    "print(\"Top 5 Locations where pets are found:\")\n",
    "top_five_locations"
   ]
  },
  {
   "cell_type": "markdown",
   "id": "6883811b",
   "metadata": {},
   "source": [
    "### What is the average number of pets found in a month in the year 2015? Are there months where there is a higher number of animals found?\n",
    "#### Knowing the number of pets the shelter might see in a month can help them gather enough resources and donations to care for the animals they receive.\n"
   ]
  },
  {
   "cell_type": "code",
   "execution_count": 17,
   "id": "b34afcf8",
   "metadata": {},
   "outputs": [
    {
     "data": {
      "text/plain": [
       "1559.3333333333333"
      ]
     },
     "execution_count": 17,
     "metadata": {},
     "output_type": "execute_result"
    }
   ],
   "source": [
    "pets_2015 = in_df[in_df['datetime'].dt.year == 2015].copy()\n",
    "pets_2015['month'] = pets_2015['datetime'].dt.month\n",
    "monthly_counts = pets_2015['month'].value_counts().sort_index()\n",
    "\n",
    "average_pets_per_month = monthly_counts.mean()\n",
    "\n",
    "average_pets_per_month"
   ]
  },
  {
   "cell_type": "code",
   "execution_count": 18,
   "id": "6e1175bb",
   "metadata": {},
   "outputs": [
    {
     "data": {
      "text/plain": [
       "month\n",
       "1     1198\n",
       "2     1119\n",
       "3     1346\n",
       "4     1543\n",
       "5     2094\n",
       "6     2189\n",
       "7     1635\n",
       "8     1718\n",
       "9     1591\n",
       "10    1740\n",
       "11    1411\n",
       "12    1128\n",
       "Name: count, dtype: int64"
      ]
     },
     "execution_count": 18,
     "metadata": {},
     "output_type": "execute_result"
    }
   ],
   "source": [
    "monthly_counts"
   ]
  },
  {
   "cell_type": "code",
   "execution_count": 19,
   "id": "9eaca92a",
   "metadata": {},
   "outputs": [
    {
     "data": {
      "text/plain": [
       "month\n",
       "5     2094\n",
       "6     2189\n",
       "7     1635\n",
       "8     1718\n",
       "9     1591\n",
       "10    1740\n",
       "Name: count, dtype: int64"
      ]
     },
     "execution_count": 19,
     "metadata": {},
     "output_type": "execute_result"
    }
   ],
   "source": [
    "months_over_1559 = monthly_counts[monthly_counts > 1559]\n",
    "months_over_1559"
   ]
  },
  {
   "cell_type": "markdown",
   "id": "b20f1d63",
   "metadata": {},
   "source": [
    "### What is the ratio of incoming pets vs. adopted pets?\n",
    "#### This key metric helps the shelter know how they are doing."
   ]
  },
  {
   "cell_type": "code",
   "execution_count": 21,
   "id": "d68be737",
   "metadata": {},
   "outputs": [
    {
     "data": {
      "text/plain": [
       "2.3424573498480954"
      ]
     },
     "execution_count": 21,
     "metadata": {},
     "output_type": "execute_result"
    }
   ],
   "source": [
    "total_incoming_pets = len(in_df)\n",
    "\n",
    "adopted_pets = out_df[out_df['outcome_type'] == 'Adoption']\n",
    "total_adopted_pets = len(adopted_pets)\n",
    "\n",
    "adoption_ratio = total_incoming_pets / total_adopted_pets\n",
    "\n",
    "adoption_ratio"
   ]
  },
  {
   "cell_type": "markdown",
   "id": "758fd4eb",
   "metadata": {},
   "source": [
    "### What is the distribution of the types of animals in the shelter?\n",
    "#### Find the count of each type of animal in the shelter."
   ]
  },
  {
   "cell_type": "code",
   "execution_count": 22,
   "id": "803cef91",
   "metadata": {},
   "outputs": [
    {
     "data": {
      "text/plain": [
       "animal_type\n",
       "Dog          45743\n",
       "Cat          29659\n",
       "Other         4434\n",
       "Bird           342\n",
       "Livestock        9\n",
       "Name: count, dtype: int64"
      ]
     },
     "execution_count": 22,
     "metadata": {},
     "output_type": "execute_result"
    }
   ],
   "source": [
    "animal_type_counts = in_df['animal_type'].value_counts()\n",
    "animal_type_counts"
   ]
  },
  {
   "cell_type": "code",
   "execution_count": 23,
   "id": "f53c3077",
   "metadata": {},
   "outputs": [
    {
     "data": {
      "text/plain": [
       "animal_type\n",
       "Dog          57.045406\n",
       "Cat          36.987292\n",
       "Other         5.529575\n",
       "Bird          0.426503\n",
       "Livestock     0.011224\n",
       "Name: count, dtype: float64"
      ]
     },
     "execution_count": 23,
     "metadata": {},
     "output_type": "execute_result"
    }
   ],
   "source": [
    "animal_type_distribution = (animal_type_counts / animal_type_counts.sum()) * 100\n",
    "\n",
    "animal_type_distribution"
   ]
  },
  {
   "cell_type": "markdown",
   "id": "ac40e4b9",
   "metadata": {},
   "source": [
    "### What are the adoption rates for specific breeds?\n",
    "#### Find the top 5 dog breeds in the shelter (based on count) and then find the adoption percentage of each breed."
   ]
  },
  {
   "cell_type": "code",
   "execution_count": 26,
   "id": "dbc2f2c2",
   "metadata": {},
   "outputs": [
    {
     "data": {
      "text/plain": [
       "breed\n",
       "Pit Bull Mix                 6382\n",
       "Chihuahua Shorthair Mix      4860\n",
       "Labrador Retriever Mix       4841\n",
       "German Shepherd Mix          1963\n",
       "Australian Cattle Dog Mix    1105\n",
       "Name: count, dtype: int64"
      ]
     },
     "execution_count": 26,
     "metadata": {},
     "output_type": "execute_result"
    }
   ],
   "source": [
    "dogs_intake = in_df[in_df['animal_type'] == 'Dog']\n",
    "dogs_outcome = out_df[out_df['animal_type'] == 'Dog']\n",
    "top_5_dog_breeds = dogs_intake['breed'].value_counts().head(5)\n",
    "\n",
    "top_5_dog_breeds"
   ]
  },
  {
   "cell_type": "code",
   "execution_count": 27,
   "id": "208c8f08",
   "metadata": {},
   "outputs": [
    {
     "data": {
      "text/plain": [
       "{'Pit Bull Mix': 37.32,\n",
       " 'Chihuahua Shorthair Mix': 47.18,\n",
       " 'Labrador Retriever Mix': 49.66,\n",
       " 'German Shepherd Mix': 47.73,\n",
       " 'Australian Cattle Dog Mix': 56.02}"
      ]
     },
     "execution_count": 27,
     "metadata": {},
     "output_type": "execute_result"
    }
   ],
   "source": [
    "top_5_breeds_list = top_5_dog_breeds.index.tolist()\n",
    "\n",
    "adoption_percentages = {}\n",
    "\n",
    "for breed in top_5_breeds_list:\n",
    "    total_intakes = len(dogs_intake[dogs_intake['breed'] == breed])\n",
    "\n",
    "    total_adoptions = len(dogs_outcome[(dogs_outcome['breed'] == breed) & (dogs_outcome['outcome_type'] == 'Adoption')])\n",
    "\n",
    "    adoption_percentage = (total_adoptions / total_intakes) * 100\n",
    "    adoption_percentages[breed] = round(adoption_percentage, 2)\n",
    "    \n",
    "adoption_percentages"
   ]
  },
  {
   "cell_type": "markdown",
   "id": "e11c002c",
   "metadata": {},
   "source": [
    "### What are the adoption rates for different colorings?\n",
    "#### Find the top 5 colorings in the shelter (based on count) and then find the adoption percentage of each color."
   ]
  },
  {
   "cell_type": "code",
   "execution_count": 29,
   "id": "9b784b0e",
   "metadata": {},
   "outputs": [
    {
     "data": {
      "text/plain": [
       "color\n",
       "Black/White    8340\n",
       "Black          6710\n",
       "Brown Tabby    4487\n",
       "Brown          3618\n",
       "White          2849\n",
       "Name: count, dtype: int64"
      ]
     },
     "execution_count": 29,
     "metadata": {},
     "output_type": "execute_result"
    }
   ],
   "source": [
    "top_5_colors = in_df['color'].value_counts().head(5)\n",
    "top_5_colors"
   ]
  },
  {
   "cell_type": "code",
   "execution_count": 31,
   "id": "e68b85b6",
   "metadata": {},
   "outputs": [
    {
     "data": {
      "text/plain": [
       "{'Black/White': 45.73,\n",
       " 'Black': 41.09,\n",
       " 'Brown Tabby': 42.66,\n",
       " 'Brown': 22.19,\n",
       " 'White': 37.98}"
      ]
     },
     "execution_count": 31,
     "metadata": {},
     "output_type": "execute_result"
    }
   ],
   "source": [
    "top_5_colors_list = top_5_colors.index.tolist()\n",
    "\n",
    "color_adoption_percentages = {}\n",
    "\n",
    "for color in top_5_colors_list:\n",
    "    total_intakes_color = len(in_df[in_df['color'] == color])\n",
    "\n",
    "    total_adoptions_color = len(out_df[(out_df['color'] == color) & (out_df['outcome_type'] == 'Adoption')])\n",
    "\n",
    "    adoption_percentage_color = (total_adoptions_color / total_intakes_color) * 100\n",
    "    color_adoption_percentages[color] = round(adoption_percentage_color, 2)\n",
    "\n",
    "color_adoption_percentages"
   ]
  },
  {
   "cell_type": "markdown",
   "id": "182021ec",
   "metadata": {},
   "source": [
    "### About how many animals are spayed/neutered each month?\n",
    "#### This will help the shelter allocate resources and staff. Assume that all intact males and females will be spayed/neutered."
   ]
  },
  {
   "cell_type": "code",
   "execution_count": 34,
   "id": "5a1b6726",
   "metadata": {},
   "outputs": [
    {
     "data": {
      "text/plain": [
       "913.8518518518518"
      ]
     },
     "execution_count": 34,
     "metadata": {},
     "output_type": "execute_result"
    }
   ],
   "source": [
    "intact_animals = in_df[in_df['sex_upon_intake'].isin(['Intact Male', 'Intact Female'])].copy()\n",
    "\n",
    "intact_animals['year'] = intact_animals['datetime'].dt.year\n",
    "intact_animals['month'] = intact_animals['datetime'].dt.month\n",
    "\n",
    "spay_neuter_counts = intact_animals.groupby(['year', 'month']).size()\n",
    "\n",
    "total_neuters = spay_neuter_counts.sum()\n",
    "\n",
    "num_months = len(spay_neuter_counts)\n",
    "\n",
    "average_monthly_neuters = total_neuters / num_months\n",
    "\n",
    "average_monthly_neuters"
   ]
  },
  {
   "cell_type": "markdown",
   "id": "a7df10c7",
   "metadata": {},
   "source": [
    "### Extra Credit"
   ]
  },
  {
   "cell_type": "markdown",
   "id": "f0ee12ff",
   "metadata": {},
   "source": [
    "\n",
    "### How many animals in the shelter are repeats? Which animal was returned to the shelter the most?\n",
    "\n",
    "#### This means the animal has been brought in more than once."
   ]
  },
  {
   "cell_type": "code",
   "execution_count": 40,
   "id": "420b87cc",
   "metadata": {},
   "outputs": [
    {
     "data": {
      "text/plain": [
       "(6154,\n",
       "      animal_id     name            breed\n",
       " 6393   A721033  Lil Bit  Rat Terrier Mix,\n",
       " 13)"
      ]
     },
     "execution_count": 40,
     "metadata": {},
     "output_type": "execute_result"
    }
   ],
   "source": [
    "animal_id_counts = in_df['animal_id'].value_counts()\n",
    "\n",
    "repeat_animals = animal_id_counts[animal_id_counts > 1]\n",
    "\n",
    "num_repeat_animals = len(repeat_animals)\n",
    "\n",
    "max_returns = repeat_animals.max()\n",
    "animal_ids_most_returns = repeat_animals[repeat_animals == max_returns].index\n",
    "\n",
    "animals_most_returns_details = in_df[in_df['animal_id'].isin(animal_ids_most_returns)][['animal_id', 'name', 'breed']].drop_duplicates()\n",
    "\n",
    "num_repeat_animals, animals_most_returns_details, max_returns"
   ]
  },
  {
   "cell_type": "markdown",
   "id": "f1a0b3da",
   "metadata": {},
   "source": [
    "\n",
    "### What are the adoption rates for the following age groups?\n",
    "\n",
    "    baby: 4 months and less\n",
    "    young: 5 months - 2 years\n",
    "    adult: 3 years - 10 years\n",
    "    senior: 11+\n",
    "\n"
   ]
  },
  {
   "cell_type": "code",
   "execution_count": null,
   "id": "78369c17",
   "metadata": {},
   "outputs": [],
   "source": []
  },
  {
   "cell_type": "markdown",
   "id": "42c6d90e",
   "metadata": {},
   "source": [
    "### If spay/neuter for a dog costs 100 and a spay/neuter for a cat costs 50, how much did the shelter spend in 2015 on these procedures?"
   ]
  },
  {
   "cell_type": "code",
   "execution_count": null,
   "id": "44d5dd6c",
   "metadata": {},
   "outputs": [],
   "source": []
  },
  {
   "cell_type": "code",
   "execution_count": null,
   "id": "5579bad3",
   "metadata": {},
   "outputs": [],
   "source": []
  }
 ],
 "metadata": {
  "kernelspec": {
   "display_name": "Python 3 (ipykernel)",
   "language": "python",
   "name": "python3"
  },
  "language_info": {
   "codemirror_mode": {
    "name": "ipython",
    "version": 3
   },
   "file_extension": ".py",
   "mimetype": "text/x-python",
   "name": "python",
   "nbconvert_exporter": "python",
   "pygments_lexer": "ipython3",
   "version": "3.11.5"
  }
 },
 "nbformat": 4,
 "nbformat_minor": 5
}
