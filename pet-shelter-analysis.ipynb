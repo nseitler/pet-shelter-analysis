{
 "cells": [
  {
   "cell_type": "code",
   "execution_count": 6,
   "id": "0be57295",
   "metadata": {},
   "outputs": [],
   "source": [
    "import pandas as pd\n",
    "in_out_df = pd.read_csv('aac_intakes_outcomes.csv')\n",
    "in_df = pd.read_csv('aac_intakes.csv')\n",
    "out_df = pd.read_csv('aac_outcomes.csv')"
   ]
  },
  {
   "cell_type": "code",
   "execution_count": 8,
   "id": "ba90c70f",
   "metadata": {},
   "outputs": [],
   "source": [
    "# Clean data\n",
    "in_df['datetime'] = pd.to_datetime(in_df['datetime'])"
   ]
  },
  {
   "cell_type": "markdown",
   "id": "4bf09c2b",
   "metadata": {},
   "source": [
    "### Is there an area where more pets are found?\n",
    "#### Find the top 5 places where animals are found so the shelter can coordinate with local volunteers and animal control to monitor these areas."
   ]
  },
  {
   "cell_type": "code",
   "execution_count": 5,
   "id": "e7a21a6a",
   "metadata": {},
   "outputs": [
    {
     "name": "stdout",
     "output_type": "stream",
     "text": [
      "Top 5 Locations where pets are found:\n"
     ]
    },
    {
     "data": {
      "text/plain": [
       "found_location\n",
       "Austin (TX)                          14311\n",
       "Outside Jurisdiction                   945\n",
       "Travis (TX)                            907\n",
       "7201 Levander Loop in Austin (TX)      514\n",
       "Del Valle (TX)                         407\n",
       "Name: count, dtype: int64"
      ]
     },
     "execution_count": 5,
     "metadata": {},
     "output_type": "execute_result"
    }
   ],
   "source": [
    "location_counts = in_out_df['found_location']\n",
    "top_five_locations = location_counts.value_counts()[:5]\n",
    "\n",
    "print(\"Top 5 Locations where pets are found:\")\n",
    "top_five_locations"
   ]
  },
  {
   "cell_type": "markdown",
   "id": "6a30ad67",
   "metadata": {},
   "source": [
    "### What is the average number of pets found in a month in the year 2015? Are there months where there is a higher number of animals found?\n",
    "#### Knowing the number of pets the shelter might see in a month can help them gather enough resources and donations to care for the animals they receive.\n"
   ]
  },
  {
   "cell_type": "code",
   "execution_count": 17,
   "id": "a3808673",
   "metadata": {},
   "outputs": [
    {
     "data": {
      "text/plain": [
       "1559.3333333333333"
      ]
     },
     "execution_count": 17,
     "metadata": {},
     "output_type": "execute_result"
    }
   ],
   "source": [
    "pets_2015 = in_df[in_df['datetime'].dt.year == 2015].copy()\n",
    "pets_2015['month'] = pets_2015['datetime'].dt.month\n",
    "monthly_counts = pets_2015['month'].value_counts().sort_index()\n",
    "\n",
    "average_pets_per_month = monthly_counts.mean()\n",
    "\n",
    "average_pets_per_month"
   ]
  },
  {
   "cell_type": "code",
   "execution_count": 18,
   "id": "65e21807",
   "metadata": {},
   "outputs": [
    {
     "data": {
      "text/plain": [
       "month\n",
       "1     1198\n",
       "2     1119\n",
       "3     1346\n",
       "4     1543\n",
       "5     2094\n",
       "6     2189\n",
       "7     1635\n",
       "8     1718\n",
       "9     1591\n",
       "10    1740\n",
       "11    1411\n",
       "12    1128\n",
       "Name: count, dtype: int64"
      ]
     },
     "execution_count": 18,
     "metadata": {},
     "output_type": "execute_result"
    }
   ],
   "source": [
    "monthly_counts"
   ]
  },
  {
   "cell_type": "code",
   "execution_count": 19,
   "id": "fc4186f0",
   "metadata": {},
   "outputs": [
    {
     "data": {
      "text/plain": [
       "month\n",
       "5     2094\n",
       "6     2189\n",
       "7     1635\n",
       "8     1718\n",
       "9     1591\n",
       "10    1740\n",
       "Name: count, dtype: int64"
      ]
     },
     "execution_count": 19,
     "metadata": {},
     "output_type": "execute_result"
    }
   ],
   "source": [
    "months_over_1559 = monthly_counts[monthly_counts > 1559]\n",
    "months_over_1559"
   ]
  },
  {
   "cell_type": "markdown",
   "id": "8007f114",
   "metadata": {},
   "source": [
    "### What is the ratio of incoming pets vs. adopted pets?\n",
    "#### This key metric helps the shelter know how they are doing."
   ]
  },
  {
   "cell_type": "code",
   "execution_count": null,
   "id": "2a464bac",
   "metadata": {},
   "outputs": [],
   "source": []
  },
  {
   "cell_type": "markdown",
   "id": "9b68f243",
   "metadata": {},
   "source": [
    "### What is the distribution of the types of animals in the shelter?\n",
    "#### Find the count of each type of animal in the shelter."
   ]
  },
  {
   "cell_type": "code",
   "execution_count": null,
   "id": "8ffee7b9",
   "metadata": {},
   "outputs": [],
   "source": []
  },
  {
   "cell_type": "markdown",
   "id": "fc9c6114",
   "metadata": {},
   "source": [
    "### What are the adoption rates for specific breeds?\n",
    "#### Find the top 5 dog breeds in the shelter (based on count) and then find the adoption percentage of each breed."
   ]
  },
  {
   "cell_type": "code",
   "execution_count": null,
   "id": "c16860c3",
   "metadata": {},
   "outputs": [],
   "source": []
  },
  {
   "cell_type": "markdown",
   "id": "e8622075",
   "metadata": {},
   "source": [
    "### What are the adoption rates for different colorings?\n",
    "#### Find the top 5 colorings in the shelter (based on count) and then find the adoption percentage of each color."
   ]
  },
  {
   "cell_type": "code",
   "execution_count": null,
   "id": "db205b49",
   "metadata": {},
   "outputs": [],
   "source": []
  },
  {
   "cell_type": "markdown",
   "id": "a0ba545d",
   "metadata": {},
   "source": [
    "### About how many animals are spayed/neutered each month?\n",
    "#### This will help the shelter allocate resources and staff. Assume that all intact males and females will be spayed/neutered."
   ]
  },
  {
   "cell_type": "code",
   "execution_count": null,
   "id": "c428b793",
   "metadata": {},
   "outputs": [],
   "source": []
  },
  {
   "cell_type": "code",
   "execution_count": null,
   "id": "2d0e263f",
   "metadata": {},
   "outputs": [],
   "source": []
  },
  {
   "cell_type": "code",
   "execution_count": null,
   "id": "8d335c80",
   "metadata": {},
   "outputs": [],
   "source": []
  },
  {
   "cell_type": "code",
   "execution_count": null,
   "id": "f915807a",
   "metadata": {},
   "outputs": [],
   "source": []
  },
  {
   "cell_type": "code",
   "execution_count": null,
   "id": "ac2fcb21",
   "metadata": {},
   "outputs": [],
   "source": []
  },
  {
   "cell_type": "code",
   "execution_count": null,
   "id": "1097ee01",
   "metadata": {},
   "outputs": [],
   "source": []
  },
  {
   "cell_type": "code",
   "execution_count": null,
   "id": "a3d3c392",
   "metadata": {},
   "outputs": [],
   "source": []
  }
 ],
 "metadata": {
  "kernelspec": {
   "display_name": "Python 3 (ipykernel)",
   "language": "python",
   "name": "python3"
  },
  "language_info": {
   "codemirror_mode": {
    "name": "ipython",
    "version": 3
   },
   "file_extension": ".py",
   "mimetype": "text/x-python",
   "name": "python",
   "nbconvert_exporter": "python",
   "pygments_lexer": "ipython3",
   "version": "3.11.5"
  }
 },
 "nbformat": 4,
 "nbformat_minor": 5
}
