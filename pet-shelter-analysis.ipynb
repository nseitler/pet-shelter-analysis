{
 "cells": [
  {
   "cell_type": "code",
   "execution_count": 6,
   "id": "45dc20dd",
   "metadata": {},
   "outputs": [],
   "source": [
    "import pandas as pd\n",
    "in_out_df = pd.read_csv('aac_intakes_outcomes.csv')\n",
    "in_df = pd.read_csv('aac_intakes.csv')\n",
    "out_df = pd.read_csv('aac_outcomes.csv')"
   ]
  },
  {
   "cell_type": "code",
   "execution_count": 8,
   "id": "50e4e1ea",
   "metadata": {},
   "outputs": [],
   "source": [
    "# Clean data\n",
    "in_df['datetime'] = pd.to_datetime(in_df['datetime'])"
   ]
  },
  {
   "cell_type": "markdown",
   "id": "ed777c78",
   "metadata": {},
   "source": [
    "### Is there an area where more pets are found?\n",
    "#### Find the top 5 places where animals are found so the shelter can coordinate with local volunteers and animal control to monitor these areas."
   ]
  },
  {
   "cell_type": "code",
   "execution_count": 5,
   "id": "faccde79",
   "metadata": {},
   "outputs": [
    {
     "name": "stdout",
     "output_type": "stream",
     "text": [
      "Top 5 Locations where pets are found:\n"
     ]
    },
    {
     "data": {
      "text/plain": [
       "found_location\n",
       "Austin (TX)                          14311\n",
       "Outside Jurisdiction                   945\n",
       "Travis (TX)                            907\n",
       "7201 Levander Loop in Austin (TX)      514\n",
       "Del Valle (TX)                         407\n",
       "Name: count, dtype: int64"
      ]
     },
     "execution_count": 5,
     "metadata": {},
     "output_type": "execute_result"
    }
   ],
   "source": [
    "location_counts = in_out_df['found_location']\n",
    "top_five_locations = location_counts.value_counts()[:5]\n",
    "\n",
    "print(\"Top 5 Locations where pets are found:\")\n",
    "top_five_locations"
   ]
  },
  {
   "cell_type": "markdown",
   "id": "78b398ef",
   "metadata": {},
   "source": [
    "### What is the average number of pets found in a month in the year 2015? Are there months where there is a higher number of animals found?\n",
    "#### Knowing the number of pets the shelter might see in a month can help them gather enough resources and donations to care for the animals they receive.\n"
   ]
  },
  {
   "cell_type": "code",
   "execution_count": 17,
   "id": "49e7ffa2",
   "metadata": {},
   "outputs": [
    {
     "data": {
      "text/plain": [
       "1559.3333333333333"
      ]
     },
     "execution_count": 17,
     "metadata": {},
     "output_type": "execute_result"
    }
   ],
   "source": [
    "pets_2015 = in_df[in_df['datetime'].dt.year == 2015].copy()\n",
    "pets_2015['month'] = pets_2015['datetime'].dt.month\n",
    "monthly_counts = pets_2015['month'].value_counts().sort_index()\n",
    "\n",
    "average_pets_per_month = monthly_counts.mean()\n",
    "\n",
    "average_pets_per_month"
   ]
  },
  {
   "cell_type": "code",
   "execution_count": 18,
   "id": "22a85a40",
   "metadata": {},
   "outputs": [
    {
     "data": {
      "text/plain": [
       "month\n",
       "1     1198\n",
       "2     1119\n",
       "3     1346\n",
       "4     1543\n",
       "5     2094\n",
       "6     2189\n",
       "7     1635\n",
       "8     1718\n",
       "9     1591\n",
       "10    1740\n",
       "11    1411\n",
       "12    1128\n",
       "Name: count, dtype: int64"
      ]
     },
     "execution_count": 18,
     "metadata": {},
     "output_type": "execute_result"
    }
   ],
   "source": [
    "monthly_counts"
   ]
  },
  {
   "cell_type": "code",
   "execution_count": 19,
   "id": "85dca4bb",
   "metadata": {},
   "outputs": [
    {
     "data": {
      "text/plain": [
       "month\n",
       "5     2094\n",
       "6     2189\n",
       "7     1635\n",
       "8     1718\n",
       "9     1591\n",
       "10    1740\n",
       "Name: count, dtype: int64"
      ]
     },
     "execution_count": 19,
     "metadata": {},
     "output_type": "execute_result"
    }
   ],
   "source": [
    "months_over_1559 = monthly_counts[monthly_counts > 1559]\n",
    "months_over_1559"
   ]
  },
  {
   "cell_type": "markdown",
   "id": "96bdfda1",
   "metadata": {},
   "source": [
    "### What is the ratio of incoming pets vs. adopted pets?\n",
    "#### This key metric helps the shelter know how they are doing."
   ]
  },
  {
   "cell_type": "code",
   "execution_count": 21,
   "id": "15b457cc",
   "metadata": {},
   "outputs": [
    {
     "data": {
      "text/plain": [
       "2.3424573498480954"
      ]
     },
     "execution_count": 21,
     "metadata": {},
     "output_type": "execute_result"
    }
   ],
   "source": [
    "total_incoming_pets = len(in_df)\n",
    "\n",
    "adopted_pets = out_df[out_df['outcome_type'] == 'Adoption']\n",
    "total_adopted_pets = len(adopted_pets)\n",
    "\n",
    "adoption_ratio = total_incoming_pets / total_adopted_pets\n",
    "\n",
    "adoption_ratio"
   ]
  },
  {
   "cell_type": "markdown",
   "id": "568024c4",
   "metadata": {},
   "source": [
    "### What is the distribution of the types of animals in the shelter?\n",
    "#### Find the count of each type of animal in the shelter."
   ]
  },
  {
   "cell_type": "code",
   "execution_count": null,
   "id": "f26eccd3",
   "metadata": {},
   "outputs": [],
   "source": []
  },
  {
   "cell_type": "markdown",
   "id": "0e7f4ede",
   "metadata": {},
   "source": [
    "### What are the adoption rates for specific breeds?\n",
    "#### Find the top 5 dog breeds in the shelter (based on count) and then find the adoption percentage of each breed."
   ]
  },
  {
   "cell_type": "code",
   "execution_count": null,
   "id": "b0e957c9",
   "metadata": {},
   "outputs": [],
   "source": []
  },
  {
   "cell_type": "markdown",
   "id": "baa74fd4",
   "metadata": {},
   "source": [
    "### What are the adoption rates for different colorings?\n",
    "#### Find the top 5 colorings in the shelter (based on count) and then find the adoption percentage of each color."
   ]
  },
  {
   "cell_type": "code",
   "execution_count": null,
   "id": "6544d52d",
   "metadata": {},
   "outputs": [],
   "source": []
  },
  {
   "cell_type": "markdown",
   "id": "d1232205",
   "metadata": {},
   "source": [
    "### About how many animals are spayed/neutered each month?\n",
    "#### This will help the shelter allocate resources and staff. Assume that all intact males and females will be spayed/neutered."
   ]
  },
  {
   "cell_type": "code",
   "execution_count": null,
   "id": "a04c8279",
   "metadata": {},
   "outputs": [],
   "source": []
  },
  {
   "cell_type": "code",
   "execution_count": null,
   "id": "0b24d3a1",
   "metadata": {},
   "outputs": [],
   "source": []
  },
  {
   "cell_type": "code",
   "execution_count": null,
   "id": "7fcac349",
   "metadata": {},
   "outputs": [],
   "source": []
  },
  {
   "cell_type": "code",
   "execution_count": null,
   "id": "8c28398b",
   "metadata": {},
   "outputs": [],
   "source": []
  },
  {
   "cell_type": "code",
   "execution_count": null,
   "id": "d6f5e112",
   "metadata": {},
   "outputs": [],
   "source": []
  },
  {
   "cell_type": "code",
   "execution_count": null,
   "id": "6d01b1ca",
   "metadata": {},
   "outputs": [],
   "source": []
  },
  {
   "cell_type": "code",
   "execution_count": null,
   "id": "17379497",
   "metadata": {},
   "outputs": [],
   "source": []
  }
 ],
 "metadata": {
  "kernelspec": {
   "display_name": "Python 3 (ipykernel)",
   "language": "python",
   "name": "python3"
  },
  "language_info": {
   "codemirror_mode": {
    "name": "ipython",
    "version": 3
   },
   "file_extension": ".py",
   "mimetype": "text/x-python",
   "name": "python",
   "nbconvert_exporter": "python",
   "pygments_lexer": "ipython3",
   "version": "3.11.5"
  }
 },
 "nbformat": 4,
 "nbformat_minor": 5
}
